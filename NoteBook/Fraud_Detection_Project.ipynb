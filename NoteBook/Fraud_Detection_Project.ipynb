{
  "nbformat": 4,
  "nbformat_minor": 0,
  "metadata": {
    "colab": {
      "provenance": []
    },
    "kernelspec": {
      "name": "python3",
      "display_name": "Python 3"
    },
    "language_info": {
      "name": "python"
    }
  },
  "cells": [
    {
      "cell_type": "code",
      "source": [
        "import pandas as pd\n",
        "import numpy as np\n",
        "import matplotlib.pyplot as plt\n",
        "import seaborn as sns\n"
      ],
      "metadata": {
        "id": "1vFa1W78TIJM"
      },
      "execution_count": 1,
      "outputs": []
    },
    {
      "cell_type": "code",
      "source": [
        "import warnings\n",
        "warnings.filterwarnings(\"ignore\")\n",
        "sns.set(style = \"whitegrid\")"
      ],
      "metadata": {
        "id": "yr4KWWxXTVJj"
      },
      "execution_count": 2,
      "outputs": []
    },
    {
      "cell_type": "code",
      "source": [
        "df = pd.read_csv(\"AIML Dataset.csv\")"
      ],
      "metadata": {
        "id": "P8kqZfNHTf1Q"
      },
      "execution_count": 3,
      "outputs": []
    },
    {
      "cell_type": "code",
      "source": [
        "df.head()"
      ],
      "metadata": {
        "colab": {
          "base_uri": "https://localhost:8080/",
          "height": 226
        },
        "id": "9Q6loJOUTqcf",
        "outputId": "59f3a493-ae4e-45f5-873a-6edcb3154e86"
      },
      "execution_count": 4,
      "outputs": [
        {
          "output_type": "execute_result",
          "data": {
            "text/plain": [
              "   step      type    amount     nameOrig  oldbalanceOrg  newbalanceOrig  \\\n",
              "0     1   PAYMENT   9839.64  C1231006815       170136.0       160296.36   \n",
              "1     1   PAYMENT   1864.28  C1666544295        21249.0        19384.72   \n",
              "2     1  TRANSFER    181.00  C1305486145          181.0            0.00   \n",
              "3     1  CASH_OUT    181.00   C840083671          181.0            0.00   \n",
              "4     1   PAYMENT  11668.14  C2048537720        41554.0        29885.86   \n",
              "\n",
              "      nameDest  oldbalanceDest  newbalanceDest  isFraud  isFlaggedFraud  \n",
              "0  M1979787155             0.0             0.0        0               0  \n",
              "1  M2044282225             0.0             0.0        0               0  \n",
              "2   C553264065             0.0             0.0        1               0  \n",
              "3    C38997010         21182.0             0.0        1               0  \n",
              "4  M1230701703             0.0             0.0        0               0  "
            ],
            "text/html": [
              "\n",
              "  <div id=\"df-9c5eba3d-c4d1-430e-bb4a-fe1d78ad9e74\" class=\"colab-df-container\">\n",
              "    <div>\n",
              "<style scoped>\n",
              "    .dataframe tbody tr th:only-of-type {\n",
              "        vertical-align: middle;\n",
              "    }\n",
              "\n",
              "    .dataframe tbody tr th {\n",
              "        vertical-align: top;\n",
              "    }\n",
              "\n",
              "    .dataframe thead th {\n",
              "        text-align: right;\n",
              "    }\n",
              "</style>\n",
              "<table border=\"1\" class=\"dataframe\">\n",
              "  <thead>\n",
              "    <tr style=\"text-align: right;\">\n",
              "      <th></th>\n",
              "      <th>step</th>\n",
              "      <th>type</th>\n",
              "      <th>amount</th>\n",
              "      <th>nameOrig</th>\n",
              "      <th>oldbalanceOrg</th>\n",
              "      <th>newbalanceOrig</th>\n",
              "      <th>nameDest</th>\n",
              "      <th>oldbalanceDest</th>\n",
              "      <th>newbalanceDest</th>\n",
              "      <th>isFraud</th>\n",
              "      <th>isFlaggedFraud</th>\n",
              "    </tr>\n",
              "  </thead>\n",
              "  <tbody>\n",
              "    <tr>\n",
              "      <th>0</th>\n",
              "      <td>1</td>\n",
              "      <td>PAYMENT</td>\n",
              "      <td>9839.64</td>\n",
              "      <td>C1231006815</td>\n",
              "      <td>170136.0</td>\n",
              "      <td>160296.36</td>\n",
              "      <td>M1979787155</td>\n",
              "      <td>0.0</td>\n",
              "      <td>0.0</td>\n",
              "      <td>0</td>\n",
              "      <td>0</td>\n",
              "    </tr>\n",
              "    <tr>\n",
              "      <th>1</th>\n",
              "      <td>1</td>\n",
              "      <td>PAYMENT</td>\n",
              "      <td>1864.28</td>\n",
              "      <td>C1666544295</td>\n",
              "      <td>21249.0</td>\n",
              "      <td>19384.72</td>\n",
              "      <td>M2044282225</td>\n",
              "      <td>0.0</td>\n",
              "      <td>0.0</td>\n",
              "      <td>0</td>\n",
              "      <td>0</td>\n",
              "    </tr>\n",
              "    <tr>\n",
              "      <th>2</th>\n",
              "      <td>1</td>\n",
              "      <td>TRANSFER</td>\n",
              "      <td>181.00</td>\n",
              "      <td>C1305486145</td>\n",
              "      <td>181.0</td>\n",
              "      <td>0.00</td>\n",
              "      <td>C553264065</td>\n",
              "      <td>0.0</td>\n",
              "      <td>0.0</td>\n",
              "      <td>1</td>\n",
              "      <td>0</td>\n",
              "    </tr>\n",
              "    <tr>\n",
              "      <th>3</th>\n",
              "      <td>1</td>\n",
              "      <td>CASH_OUT</td>\n",
              "      <td>181.00</td>\n",
              "      <td>C840083671</td>\n",
              "      <td>181.0</td>\n",
              "      <td>0.00</td>\n",
              "      <td>C38997010</td>\n",
              "      <td>21182.0</td>\n",
              "      <td>0.0</td>\n",
              "      <td>1</td>\n",
              "      <td>0</td>\n",
              "    </tr>\n",
              "    <tr>\n",
              "      <th>4</th>\n",
              "      <td>1</td>\n",
              "      <td>PAYMENT</td>\n",
              "      <td>11668.14</td>\n",
              "      <td>C2048537720</td>\n",
              "      <td>41554.0</td>\n",
              "      <td>29885.86</td>\n",
              "      <td>M1230701703</td>\n",
              "      <td>0.0</td>\n",
              "      <td>0.0</td>\n",
              "      <td>0</td>\n",
              "      <td>0</td>\n",
              "    </tr>\n",
              "  </tbody>\n",
              "</table>\n",
              "</div>\n",
              "    <div class=\"colab-df-buttons\">\n",
              "\n",
              "  <div class=\"colab-df-container\">\n",
              "    <button class=\"colab-df-convert\" onclick=\"convertToInteractive('df-9c5eba3d-c4d1-430e-bb4a-fe1d78ad9e74')\"\n",
              "            title=\"Convert this dataframe to an interactive table.\"\n",
              "            style=\"display:none;\">\n",
              "\n",
              "  <svg xmlns=\"http://www.w3.org/2000/svg\" height=\"24px\" viewBox=\"0 -960 960 960\">\n",
              "    <path d=\"M120-120v-720h720v720H120Zm60-500h600v-160H180v160Zm220 220h160v-160H400v160Zm0 220h160v-160H400v160ZM180-400h160v-160H180v160Zm440 0h160v-160H620v160ZM180-180h160v-160H180v160Zm440 0h160v-160H620v160Z\"/>\n",
              "  </svg>\n",
              "    </button>\n",
              "\n",
              "  <style>\n",
              "    .colab-df-container {\n",
              "      display:flex;\n",
              "      gap: 12px;\n",
              "    }\n",
              "\n",
              "    .colab-df-convert {\n",
              "      background-color: #E8F0FE;\n",
              "      border: none;\n",
              "      border-radius: 50%;\n",
              "      cursor: pointer;\n",
              "      display: none;\n",
              "      fill: #1967D2;\n",
              "      height: 32px;\n",
              "      padding: 0 0 0 0;\n",
              "      width: 32px;\n",
              "    }\n",
              "\n",
              "    .colab-df-convert:hover {\n",
              "      background-color: #E2EBFA;\n",
              "      box-shadow: 0px 1px 2px rgba(60, 64, 67, 0.3), 0px 1px 3px 1px rgba(60, 64, 67, 0.15);\n",
              "      fill: #174EA6;\n",
              "    }\n",
              "\n",
              "    .colab-df-buttons div {\n",
              "      margin-bottom: 4px;\n",
              "    }\n",
              "\n",
              "    [theme=dark] .colab-df-convert {\n",
              "      background-color: #3B4455;\n",
              "      fill: #D2E3FC;\n",
              "    }\n",
              "\n",
              "    [theme=dark] .colab-df-convert:hover {\n",
              "      background-color: #434B5C;\n",
              "      box-shadow: 0px 1px 3px 1px rgba(0, 0, 0, 0.15);\n",
              "      filter: drop-shadow(0px 1px 2px rgba(0, 0, 0, 0.3));\n",
              "      fill: #FFFFFF;\n",
              "    }\n",
              "  </style>\n",
              "\n",
              "    <script>\n",
              "      const buttonEl =\n",
              "        document.querySelector('#df-9c5eba3d-c4d1-430e-bb4a-fe1d78ad9e74 button.colab-df-convert');\n",
              "      buttonEl.style.display =\n",
              "        google.colab.kernel.accessAllowed ? 'block' : 'none';\n",
              "\n",
              "      async function convertToInteractive(key) {\n",
              "        const element = document.querySelector('#df-9c5eba3d-c4d1-430e-bb4a-fe1d78ad9e74');\n",
              "        const dataTable =\n",
              "          await google.colab.kernel.invokeFunction('convertToInteractive',\n",
              "                                                    [key], {});\n",
              "        if (!dataTable) return;\n",
              "\n",
              "        const docLinkHtml = 'Like what you see? Visit the ' +\n",
              "          '<a target=\"_blank\" href=https://colab.research.google.com/notebooks/data_table.ipynb>data table notebook</a>'\n",
              "          + ' to learn more about interactive tables.';\n",
              "        element.innerHTML = '';\n",
              "        dataTable['output_type'] = 'display_data';\n",
              "        await google.colab.output.renderOutput(dataTable, element);\n",
              "        const docLink = document.createElement('div');\n",
              "        docLink.innerHTML = docLinkHtml;\n",
              "        element.appendChild(docLink);\n",
              "      }\n",
              "    </script>\n",
              "  </div>\n",
              "\n",
              "\n",
              "    <div id=\"df-1a0b349f-528f-4f2a-a863-f285498e1591\">\n",
              "      <button class=\"colab-df-quickchart\" onclick=\"quickchart('df-1a0b349f-528f-4f2a-a863-f285498e1591')\"\n",
              "                title=\"Suggest charts\"\n",
              "                style=\"display:none;\">\n",
              "\n",
              "<svg xmlns=\"http://www.w3.org/2000/svg\" height=\"24px\"viewBox=\"0 0 24 24\"\n",
              "     width=\"24px\">\n",
              "    <g>\n",
              "        <path d=\"M19 3H5c-1.1 0-2 .9-2 2v14c0 1.1.9 2 2 2h14c1.1 0 2-.9 2-2V5c0-1.1-.9-2-2-2zM9 17H7v-7h2v7zm4 0h-2V7h2v10zm4 0h-2v-4h2v4z\"/>\n",
              "    </g>\n",
              "</svg>\n",
              "      </button>\n",
              "\n",
              "<style>\n",
              "  .colab-df-quickchart {\n",
              "      --bg-color: #E8F0FE;\n",
              "      --fill-color: #1967D2;\n",
              "      --hover-bg-color: #E2EBFA;\n",
              "      --hover-fill-color: #174EA6;\n",
              "      --disabled-fill-color: #AAA;\n",
              "      --disabled-bg-color: #DDD;\n",
              "  }\n",
              "\n",
              "  [theme=dark] .colab-df-quickchart {\n",
              "      --bg-color: #3B4455;\n",
              "      --fill-color: #D2E3FC;\n",
              "      --hover-bg-color: #434B5C;\n",
              "      --hover-fill-color: #FFFFFF;\n",
              "      --disabled-bg-color: #3B4455;\n",
              "      --disabled-fill-color: #666;\n",
              "  }\n",
              "\n",
              "  .colab-df-quickchart {\n",
              "    background-color: var(--bg-color);\n",
              "    border: none;\n",
              "    border-radius: 50%;\n",
              "    cursor: pointer;\n",
              "    display: none;\n",
              "    fill: var(--fill-color);\n",
              "    height: 32px;\n",
              "    padding: 0;\n",
              "    width: 32px;\n",
              "  }\n",
              "\n",
              "  .colab-df-quickchart:hover {\n",
              "    background-color: var(--hover-bg-color);\n",
              "    box-shadow: 0 1px 2px rgba(60, 64, 67, 0.3), 0 1px 3px 1px rgba(60, 64, 67, 0.15);\n",
              "    fill: var(--button-hover-fill-color);\n",
              "  }\n",
              "\n",
              "  .colab-df-quickchart-complete:disabled,\n",
              "  .colab-df-quickchart-complete:disabled:hover {\n",
              "    background-color: var(--disabled-bg-color);\n",
              "    fill: var(--disabled-fill-color);\n",
              "    box-shadow: none;\n",
              "  }\n",
              "\n",
              "  .colab-df-spinner {\n",
              "    border: 2px solid var(--fill-color);\n",
              "    border-color: transparent;\n",
              "    border-bottom-color: var(--fill-color);\n",
              "    animation:\n",
              "      spin 1s steps(1) infinite;\n",
              "  }\n",
              "\n",
              "  @keyframes spin {\n",
              "    0% {\n",
              "      border-color: transparent;\n",
              "      border-bottom-color: var(--fill-color);\n",
              "      border-left-color: var(--fill-color);\n",
              "    }\n",
              "    20% {\n",
              "      border-color: transparent;\n",
              "      border-left-color: var(--fill-color);\n",
              "      border-top-color: var(--fill-color);\n",
              "    }\n",
              "    30% {\n",
              "      border-color: transparent;\n",
              "      border-left-color: var(--fill-color);\n",
              "      border-top-color: var(--fill-color);\n",
              "      border-right-color: var(--fill-color);\n",
              "    }\n",
              "    40% {\n",
              "      border-color: transparent;\n",
              "      border-right-color: var(--fill-color);\n",
              "      border-top-color: var(--fill-color);\n",
              "    }\n",
              "    60% {\n",
              "      border-color: transparent;\n",
              "      border-right-color: var(--fill-color);\n",
              "    }\n",
              "    80% {\n",
              "      border-color: transparent;\n",
              "      border-right-color: var(--fill-color);\n",
              "      border-bottom-color: var(--fill-color);\n",
              "    }\n",
              "    90% {\n",
              "      border-color: transparent;\n",
              "      border-bottom-color: var(--fill-color);\n",
              "    }\n",
              "  }\n",
              "</style>\n",
              "\n",
              "      <script>\n",
              "        async function quickchart(key) {\n",
              "          const quickchartButtonEl =\n",
              "            document.querySelector('#' + key + ' button');\n",
              "          quickchartButtonEl.disabled = true;  // To prevent multiple clicks.\n",
              "          quickchartButtonEl.classList.add('colab-df-spinner');\n",
              "          try {\n",
              "            const charts = await google.colab.kernel.invokeFunction(\n",
              "                'suggestCharts', [key], {});\n",
              "          } catch (error) {\n",
              "            console.error('Error during call to suggestCharts:', error);\n",
              "          }\n",
              "          quickchartButtonEl.classList.remove('colab-df-spinner');\n",
              "          quickchartButtonEl.classList.add('colab-df-quickchart-complete');\n",
              "        }\n",
              "        (() => {\n",
              "          let quickchartButtonEl =\n",
              "            document.querySelector('#df-1a0b349f-528f-4f2a-a863-f285498e1591 button');\n",
              "          quickchartButtonEl.style.display =\n",
              "            google.colab.kernel.accessAllowed ? 'block' : 'none';\n",
              "        })();\n",
              "      </script>\n",
              "    </div>\n",
              "\n",
              "    </div>\n",
              "  </div>\n"
            ],
            "application/vnd.google.colaboratory.intrinsic+json": {
              "type": "dataframe",
              "variable_name": "df"
            }
          },
          "metadata": {},
          "execution_count": 4
        }
      ]
    },
    {
      "cell_type": "code",
      "source": [
        "df.info()"
      ],
      "metadata": {
        "colab": {
          "base_uri": "https://localhost:8080/"
        },
        "id": "VpzTlq4eTs_d",
        "outputId": "10f21b28-234e-405c-8ee0-1e9bb2665d6c"
      },
      "execution_count": 5,
      "outputs": [
        {
          "output_type": "stream",
          "name": "stdout",
          "text": [
            "<class 'pandas.core.frame.DataFrame'>\n",
            "RangeIndex: 6362620 entries, 0 to 6362619\n",
            "Data columns (total 11 columns):\n",
            " #   Column          Dtype  \n",
            "---  ------          -----  \n",
            " 0   step            int64  \n",
            " 1   type            object \n",
            " 2   amount          float64\n",
            " 3   nameOrig        object \n",
            " 4   oldbalanceOrg   float64\n",
            " 5   newbalanceOrig  float64\n",
            " 6   nameDest        object \n",
            " 7   oldbalanceDest  float64\n",
            " 8   newbalanceDest  float64\n",
            " 9   isFraud         int64  \n",
            " 10  isFlaggedFraud  int64  \n",
            "dtypes: float64(5), int64(3), object(3)\n",
            "memory usage: 534.0+ MB\n"
          ]
        }
      ]
    },
    {
      "cell_type": "code",
      "source": [
        "df.columns"
      ],
      "metadata": {
        "colab": {
          "base_uri": "https://localhost:8080/"
        },
        "id": "O3lE7GhlTzbF",
        "outputId": "ccfb38ef-8e9a-442d-bc53-0a8cb5c54fcc"
      },
      "execution_count": 6,
      "outputs": [
        {
          "output_type": "execute_result",
          "data": {
            "text/plain": [
              "Index(['step', 'type', 'amount', 'nameOrig', 'oldbalanceOrg', 'newbalanceOrig',\n",
              "       'nameDest', 'oldbalanceDest', 'newbalanceDest', 'isFraud',\n",
              "       'isFlaggedFraud'],\n",
              "      dtype='object')"
            ]
          },
          "metadata": {},
          "execution_count": 6
        }
      ]
    },
    {
      "cell_type": "code",
      "source": [
        "df['isFraud'].value_counts()"
      ],
      "metadata": {
        "colab": {
          "base_uri": "https://localhost:8080/",
          "height": 178
        },
        "id": "E271ynHbT6Ql",
        "outputId": "e3da807e-5a1c-408a-bd03-20806b829489"
      },
      "execution_count": 7,
      "outputs": [
        {
          "output_type": "execute_result",
          "data": {
            "text/plain": [
              "isFraud\n",
              "0    6354407\n",
              "1       8213\n",
              "Name: count, dtype: int64"
            ],
            "text/html": [
              "<div>\n",
              "<style scoped>\n",
              "    .dataframe tbody tr th:only-of-type {\n",
              "        vertical-align: middle;\n",
              "    }\n",
              "\n",
              "    .dataframe tbody tr th {\n",
              "        vertical-align: top;\n",
              "    }\n",
              "\n",
              "    .dataframe thead th {\n",
              "        text-align: right;\n",
              "    }\n",
              "</style>\n",
              "<table border=\"1\" class=\"dataframe\">\n",
              "  <thead>\n",
              "    <tr style=\"text-align: right;\">\n",
              "      <th></th>\n",
              "      <th>count</th>\n",
              "    </tr>\n",
              "    <tr>\n",
              "      <th>isFraud</th>\n",
              "      <th></th>\n",
              "    </tr>\n",
              "  </thead>\n",
              "  <tbody>\n",
              "    <tr>\n",
              "      <th>0</th>\n",
              "      <td>6354407</td>\n",
              "    </tr>\n",
              "    <tr>\n",
              "      <th>1</th>\n",
              "      <td>8213</td>\n",
              "    </tr>\n",
              "  </tbody>\n",
              "</table>\n",
              "</div><br><label><b>dtype:</b> int64</label>"
            ]
          },
          "metadata": {},
          "execution_count": 7
        }
      ]
    },
    {
      "cell_type": "code",
      "source": [
        "df['isFlaggedFraud'].value_counts()"
      ],
      "metadata": {
        "colab": {
          "base_uri": "https://localhost:8080/",
          "height": 178
        },
        "id": "pgj-a_HhUDWI",
        "outputId": "839a35a0-521d-49e8-fe3f-cb7a3ad34af2"
      },
      "execution_count": 8,
      "outputs": [
        {
          "output_type": "execute_result",
          "data": {
            "text/plain": [
              "isFlaggedFraud\n",
              "0    6362604\n",
              "1         16\n",
              "Name: count, dtype: int64"
            ],
            "text/html": [
              "<div>\n",
              "<style scoped>\n",
              "    .dataframe tbody tr th:only-of-type {\n",
              "        vertical-align: middle;\n",
              "    }\n",
              "\n",
              "    .dataframe tbody tr th {\n",
              "        vertical-align: top;\n",
              "    }\n",
              "\n",
              "    .dataframe thead th {\n",
              "        text-align: right;\n",
              "    }\n",
              "</style>\n",
              "<table border=\"1\" class=\"dataframe\">\n",
              "  <thead>\n",
              "    <tr style=\"text-align: right;\">\n",
              "      <th></th>\n",
              "      <th>count</th>\n",
              "    </tr>\n",
              "    <tr>\n",
              "      <th>isFlaggedFraud</th>\n",
              "      <th></th>\n",
              "    </tr>\n",
              "  </thead>\n",
              "  <tbody>\n",
              "    <tr>\n",
              "      <th>0</th>\n",
              "      <td>6362604</td>\n",
              "    </tr>\n",
              "    <tr>\n",
              "      <th>1</th>\n",
              "      <td>16</td>\n",
              "    </tr>\n",
              "  </tbody>\n",
              "</table>\n",
              "</div><br><label><b>dtype:</b> int64</label>"
            ]
          },
          "metadata": {},
          "execution_count": 8
        }
      ]
    },
    {
      "cell_type": "code",
      "source": [
        "df.isnull().sum().sum()"
      ],
      "metadata": {
        "colab": {
          "base_uri": "https://localhost:8080/"
        },
        "id": "LAO3wnwbURTH",
        "outputId": "7e883356-7dd7-452a-d0e1-046085f770cf"
      },
      "execution_count": 9,
      "outputs": [
        {
          "output_type": "execute_result",
          "data": {
            "text/plain": [
              "np.int64(0)"
            ]
          },
          "metadata": {},
          "execution_count": 9
        }
      ]
    },
    {
      "cell_type": "code",
      "source": [
        "df.shape"
      ],
      "metadata": {
        "colab": {
          "base_uri": "https://localhost:8080/"
        },
        "id": "Du0qpbVbUlKB",
        "outputId": "e1ef0845-bcf2-41fc-8983-0ab7f0918be0"
      },
      "execution_count": 10,
      "outputs": [
        {
          "output_type": "execute_result",
          "data": {
            "text/plain": [
              "(6362620, 11)"
            ]
          },
          "metadata": {},
          "execution_count": 10
        }
      ]
    },
    {
      "cell_type": "code",
      "source": [
        "df['type'].value_counts().plot(kind = 'bar',title = 'Transaction Types', color = 'skyblue')\n",
        "plt.xlabel(\"Transaction Type\")\n",
        "plt.ylabel(\"counts\")\n",
        "plt.show()"
      ],
      "metadata": {
        "colab": {
          "base_uri": "https://localhost:8080/",
          "height": 548
        },
        "id": "ZXW1a1eeUqVE",
        "outputId": "83b70578-cebb-44ae-b892-8cf4d378b905"
      },
      "execution_count": 11,
      "outputs": [
        {
          "output_type": "display_data",
          "data": {
            "text/plain": [
              "<Figure size 640x480 with 1 Axes>"
            ],
            "image/png": "[encoded data removed]"
          },
          "metadata": {}
        }
      ]
    },
    {
      "cell_type": "code",
      "source": [
        "fraud_by_type = df.groupby(\"type\")[\"isFraud\"].mean().sort_values(ascending = False)\n",
        "fraud_by_type.plot(kind= 'bar',title =\"Fraud Rate by Type \",color = 'salmon')\n",
        "plt.ylabel(\"Fraud Rate\")\n",
        "plt.show()"
      ],
      "metadata": {
        "colab": {
          "base_uri": "https://localhost:8080/",
          "height": 548
        },
        "id": "1F66QY_PVOEW",
        "outputId": "76632fcb-72d3-42c4-f078-8e408ff743cb"
      },
      "execution_count": 12,
      "outputs": [
        {
          "output_type": "display_data",
          "data": {
            "text/plain": [
              "<Figure size 640x480 with 1 Axes>"
            ],
            "image/png": "[encoded data removed]"
          },
          "metadata": {}
        }
      ]
    },
    {
      "cell_type": "code",
      "source": [
        "df['amount'].describe().astype(int)"
      ],
      "metadata": {
        "colab": {
          "base_uri": "https://localhost:8080/",
          "height": 335
        },
        "id": "JqsDfHjuV7aW",
        "outputId": "a09e71c9-636b-4058-b658-fc77fb45b198"
      },
      "execution_count": 13,
      "outputs": [
        {
          "output_type": "execute_result",
          "data": {
            "text/plain": [
              "count     6362620\n",
              "mean       179861\n",
              "std        603858\n",
              "min             0\n",
              "25%         13389\n",
              "50%         74871\n",
              "75%        208721\n",
              "max      92445516\n",
              "Name: amount, dtype: int64"
            ],
            "text/html": [
              "<div>\n",
              "<style scoped>\n",
              "    .dataframe tbody tr th:only-of-type {\n",
              "        vertical-align: middle;\n",
              "    }\n",
              "\n",
              "    .dataframe tbody tr th {\n",
              "        vertical-align: top;\n",
              "    }\n",
              "\n",
              "    .dataframe thead th {\n",
              "        text-align: right;\n",
              "    }\n",
              "</style>\n",
              "<table border=\"1\" class=\"dataframe\">\n",
              "  <thead>\n",
              "    <tr style=\"text-align: right;\">\n",
              "      <th></th>\n",
              "      <th>amount</th>\n",
              "    </tr>\n",
              "  </thead>\n",
              "  <tbody>\n",
              "    <tr>\n",
              "      <th>count</th>\n",
              "      <td>6362620</td>\n",
              "    </tr>\n",
              "    <tr>\n",
              "      <th>mean</th>\n",
              "      <td>179861</td>\n",
              "    </tr>\n",
              "    <tr>\n",
              "      <th>std</th>\n",
              "      <td>603858</td>\n",
              "    </tr>\n",
              "    <tr>\n",
              "      <th>min</th>\n",
              "      <td>0</td>\n",
              "    </tr>\n",
              "    <tr>\n",
              "      <th>25%</th>\n",
              "      <td>13389</td>\n",
              "    </tr>\n",
              "    <tr>\n",
              "      <th>50%</th>\n",
              "      <td>74871</td>\n",
              "    </tr>\n",
              "    <tr>\n",
              "      <th>75%</th>\n",
              "      <td>208721</td>\n",
              "    </tr>\n",
              "    <tr>\n",
              "      <th>max</th>\n",
              "      <td>92445516</td>\n",
              "    </tr>\n",
              "  </tbody>\n",
              "</table>\n",
              "</div><br><label><b>dtype:</b> int64</label>"
            ]
          },
          "metadata": {},
          "execution_count": 13
        }
      ]
    },
    {
      "cell_type": "code",
      "source": [
        "sns.histplot(np.log1p(df[\"amount\"]),bins = 100 , kde = True , color = 'green')\n",
        "plt.title(\"Transaction Amount Distributed (Log Scale)\")\n",
        "plt.xlabel(\"Log(Amount+1)\")\n",
        "plt.show()"
      ],
      "metadata": {
        "colab": {
          "base_uri": "https://localhost:8080/",
          "height": 480
        },
        "id": "uYXIPCFyWIys",
        "outputId": "bcbef8ae-519a-4ada-bcdb-829ddfbf4cd6"
      },
      "execution_count": 14,
      "outputs": [
        {
          "output_type": "display_data",
          "data": {
            "text/plain": [
              "<Figure size 640x480 with 1 Axes>"
            ],
            "image/png": "[encoded data removed]"
          },
          "metadata": {}
        }
      ]
    },
    {
      "cell_type": "code",
      "source": [
        "sns.boxplot(data = df[df[\"amount\"]< 50000],x = 'isFraud',y= 'amount')\n",
        "plt.title(\"Amount vs isFraud(Filtered under 50k)\")\n",
        "plt.show()"
      ],
      "metadata": {
        "colab": {
          "base_uri": "https://localhost:8080/",
          "height": 480
        },
        "id": "xCyuzxUDYEev",
        "outputId": "caa5ab54-4a63-4549-9830-a21ab2b0b843"
      },
      "execution_count": 15,
      "outputs": [
        {
          "output_type": "display_data",
          "data": {
            "text/plain": [
              "<Figure size 640x480 with 1 Axes>"
            ],
            "image/png": "[encoded data removed]"
          },
          "metadata": {}
        }
      ]
    },
    {
      "cell_type": "code",
      "source": [
        "df[\"balanceDiffOrg\"] = df['oldbalanceOrg'] - df['newbalanceOrig']\n",
        "df['balanceDiffDest'] = df['newbalanceDest'] - df['oldbalanceDest']"
      ],
      "metadata": {
        "id": "XsNVgqqFYmoM"
      },
      "execution_count": 16,
      "outputs": []
    },
    {
      "cell_type": "code",
      "source": [
        "(df[\"balanceDiffOrg\"] < 0).sum()"
      ],
      "metadata": {
        "colab": {
          "base_uri": "https://localhost:8080/"
        },
        "id": "hYYz8rCdj3WI",
        "outputId": "61ed8a89-42fd-4751-9042-c946d2615fca"
      },
      "execution_count": 17,
      "outputs": [
        {
          "output_type": "execute_result",
          "data": {
            "text/plain": [
              "np.int64(1399253)"
            ]
          },
          "metadata": {},
          "execution_count": 17
        }
      ]
    },
    {
      "cell_type": "code",
      "source": [
        "(df[\"balanceDiffDest\"] < 0).sum()"
      ],
      "metadata": {
        "colab": {
          "base_uri": "https://localhost:8080/"
        },
        "id": "VEH6Vy8sj9pW",
        "outputId": "4346cd0f-7661-4525-805e-a73a7df55797"
      },
      "execution_count": 18,
      "outputs": [
        {
          "output_type": "execute_result",
          "data": {
            "text/plain": [
              "np.int64(1238864)"
            ]
          },
          "metadata": {},
          "execution_count": 18
        }
      ]
    },
    {
      "cell_type": "code",
      "source": [
        "# Cell Name: Data Preprocessing - Categorical Encoding & Feature/Target Definition\n",
        "\n",
        "print(\"\\n--- Data Preprocessing: Categorical Encoding ---\")\n",
        "\n",
        "# Convert 'type' column using One-Hot Encoding.\n",
        "# One-Hot Encoding transforms categorical features into a numerical format suitable for ML models.\n",
        "# 'drop_first=True' is used to avoid multicollinearity by dropping the first category's dummy variable.\n",
        "df_encoded = pd.get_dummies(df, columns=['type'], drop_first=True)\n",
        "\n",
        "print(\"DataFrame head after One-Hot Encoding 'type' column:\")\n",
        "print(df_encoded.head())\n",
        "print(f\"Shape after encoding: {df_encoded.shape}\")\n",
        "\n",
        "\n",
        "print(\"\\n--- Data Preprocessing: Define Features (X) and Target (y) ---\")\n",
        "\n",
        "# Define the target variable for the classification task.\n",
        "y = df_encoded['isFraud']\n",
        "\n",
        "# Define features (X) by excluding the target and identifier/potentially leaking columns.\n",
        "# 'isFraud' is the target variable.\n",
        "# 'nameOrig' and 'nameDest' are unique identifiers, not predictive features.\n",
        "# 'isFlaggedFraud' is a rule-based flag that strongly correlates with 'isFraud' and could lead to data leakage\n",
        "# or make the model learn simple rules instead of complex patterns; thus, it's dropped.\n",
        "X = df_encoded.drop(['isFraud', 'nameOrig', 'nameDest', 'isFlaggedFraud'], axis=1)\n",
        "\n",
        "# 'step' is a time-step feature; for simplicity, it's used as a raw numerical feature here,\n",
        "# though in advanced analysis, it could be engineered for periodicity or time-based trends.\n",
        "\n",
        "print(\"Features (X) head:\")\n",
        "print(X.head())\n",
        "print(f\"Shape of Features (X): {X.shape}\")\n",
        "print(f\"Shape of Target (y): {y.shape}\")\n",
        "\n",
        "# Verify that all features in X are now numerical data types, which is required by most ML models.\n",
        "print(\"\\nNon-numeric columns in X (after encoding and drops):\", X.select_dtypes(include='object').columns.tolist())"
      ],
      "metadata": {
        "colab": {
          "base_uri": "https://localhost:8080/"
        },
        "id": "w0DhI86vkK8i",
        "outputId": "844b9fca-5be6-4226-b34f-e38093b0f6d9"
      },
      "execution_count": 19,
      "outputs": [
        {
          "output_type": "stream",
          "name": "stdout",
          "text": [
            "\n",
            "--- Data Preprocessing: Categorical Encoding ---\n",
            "DataFrame head after One-Hot Encoding 'type' column:\n",
            "   step    amount     nameOrig  oldbalanceOrg  newbalanceOrig     nameDest  \\\n",
            "0     1   9839.64  C1231006815       170136.0       160296.36  M1979787155   \n",
            "1     1   1864.28  C1666544295        21249.0        19384.72  M2044282225   \n",
            "2     1    181.00  C1305486145          181.0            0.00   C553264065   \n",
            "3     1    181.00   C840083671          181.0            0.00    C38997010   \n",
            "4     1  11668.14  C2048537720        41554.0        29885.86  M1230701703   \n",
            "\n",
            "   oldbalanceDest  newbalanceDest  isFraud  isFlaggedFraud  balanceDiffOrg  \\\n",
            "0             0.0             0.0        0               0         9839.64   \n",
            "1             0.0             0.0        0               0         1864.28   \n",
            "2             0.0             0.0        1               0          181.00   \n",
            "3         21182.0             0.0        1               0          181.00   \n",
            "4             0.0             0.0        0               0        11668.14   \n",
            "\n",
            "   balanceDiffDest  type_CASH_OUT  type_DEBIT  type_PAYMENT  type_TRANSFER  \n",
            "0              0.0          False       False          True          False  \n",
            "1              0.0          False       False          True          False  \n",
            "2              0.0          False       False         False           True  \n",
            "3         -21182.0           True       False         False          False  \n",
            "4              0.0          False       False          True          False  \n",
            "Shape after encoding: (6362620, 16)\n",
            "\n",
            "--- Data Preprocessing: Define Features (X) and Target (y) ---\n",
            "Features (X) head:\n",
            "   step    amount  oldbalanceOrg  newbalanceOrig  oldbalanceDest  \\\n",
            "0     1   9839.64       170136.0       160296.36             0.0   \n",
            "1     1   1864.28        21249.0        19384.72             0.0   \n",
            "2     1    181.00          181.0            0.00             0.0   \n",
            "3     1    181.00          181.0            0.00         21182.0   \n",
            "4     1  11668.14        41554.0        29885.86             0.0   \n",
            "\n",
            "   newbalanceDest  balanceDiffOrg  balanceDiffDest  type_CASH_OUT  type_DEBIT  \\\n",
            "0             0.0         9839.64              0.0          False       False   \n",
            "1             0.0         1864.28              0.0          False       False   \n",
            "2             0.0          181.00              0.0          False       False   \n",
            "3             0.0          181.00         -21182.0           True       False   \n",
            "4             0.0        11668.14              0.0          False       False   \n",
            "\n",
            "   type_PAYMENT  type_TRANSFER  \n",
            "0          True          False  \n",
            "1          True          False  \n",
            "2         False           True  \n",
            "3         False          False  \n",
            "4          True          False  \n",
            "Shape of Features (X): (6362620, 12)\n",
            "Shape of Target (y): (6362620,)\n",
            "\n",
            "Non-numeric columns in X (after encoding and drops): []\n"
          ]
        }
      ]
    },
    {
      "cell_type": "code",
      "source": [
        "# Cell Name: Data Preprocessing - Addressing Class Imbalance & Train-Test Split\n",
        "\n",
        "from sklearn.model_selection import train_test_split\n",
        "from imblearn.under_sampling import RandomUnderSampler # For handling imbalance\n",
        "from collections import Counter # To check class distribution\n",
        "\n",
        "print(\"\\n--- Data Preprocessing: Addressing Class Imbalance ---\")\n",
        "\n",
        "print(\"Original class distribution (y):\\n\", y.value_counts())\n",
        "print(\"Original class distribution percentage:\\n\", y.value_counts(normalize=True) * 100)\n",
        "\n",
        "# Check the ratio\n",
        "fraud_count = y.value_counts()[1]\n",
        "non_fraud_count = y.value_counts()[0]\n",
        "ratio = non_fraud_count / fraud_count\n",
        "print(f\"Ratio of Non-Fraud to Fraud: {ratio:.2f}:1\")\n",
        "\n",
        "# Use RandomUnderSampler to balance the dataset\n",
        "# We'll undersample the majority class (0) to match the minority class (1).\n",
        "# This is a simple approach. For larger datasets, more advanced techniques might be considered.\n",
        "rus = RandomUnderSampler(random_state=42)\n",
        "X_resampled, y_resampled = rus.fit_resample(X, y)\n",
        "\n",
        "print(\"\\nClass distribution after RandomUnderSampler (y_resampled):\\n\", y_resampled.value_counts())\n",
        "print(f\"Shape of X_resampled: {X_resampled.shape}\")\n",
        "print(f\"Shape of y_resampled: {y_resampled.shape}\")\n",
        "\n",
        "# --- Data Preprocessing: Train-Test Split (after resampling) ---\n",
        "# It's crucial to split AFTER resampling if you used methods that learn from the data\n",
        "# like SMOTE, but for simple RandomUnderSampler, it can be done either way.\n",
        "# Splitting after resampling ensures your train and test sets are balanced.\n",
        "\n",
        "print(\"\\n--- Data Preprocessing: Train-Test Split ---\")\n",
        "\n",
        "# Use stratify=y_resampled to ensure an even split of classes in train and test sets\n",
        "X_train, X_test, y_train, y_test = train_test_split(\n",
        "    X_resampled, y_resampled, test_size=0.2, random_state=42, stratify=y_resampled\n",
        ")\n",
        "\n",
        "print(f\"\\nTraining features (X_train) shape: {X_train.shape}\")\n",
        "print(f\"Testing features (X_test) shape: {X_test.shape}\")\n",
        "print(f\"Training target (y_train) shape:\\n{y_train.value_counts()}\")\n",
        "print(f\"Testing target (y_test) shape:\\n{y_test.value_counts()}\")\n",
        "\n",
        "# Note: After this step, X_train, y_train, X_test, y_test are ready for scaling."
      ],
      "metadata": {
        "colab": {
          "base_uri": "https://localhost:8080/"
        },
        "id": "2kAZPHOJlXww",
        "outputId": "46ce65ce-df03-4eee-a8fc-a8609a4698ca"
      },
      "execution_count": 20,
      "outputs": [
        {
          "output_type": "stream",
          "name": "stdout",
          "text": [
            "\n",
            "--- Data Preprocessing: Addressing Class Imbalance ---\n",
            "Original class distribution (y):\n",
            " isFraud\n",
            "0    6354407\n",
            "1       8213\n",
            "Name: count, dtype: int64\n",
            "Original class distribution percentage:\n",
            " isFraud\n",
            "0    99.870918\n",
            "1     0.129082\n",
            "Name: proportion, dtype: float64\n",
            "Ratio of Non-Fraud to Fraud: 773.70:1\n",
            "\n",
            "Class distribution after RandomUnderSampler (y_resampled):\n",
            " isFraud\n",
            "0    8213\n",
            "1    8213\n",
            "Name: count, dtype: int64\n",
            "Shape of X_resampled: (16426, 12)\n",
            "Shape of y_resampled: (16426,)\n",
            "\n",
            "--- Data Preprocessing: Train-Test Split ---\n",
            "\n",
            "Training features (X_train) shape: (13140, 12)\n",
            "Testing features (X_test) shape: (3286, 12)\n",
            "Training target (y_train) shape:\n",
            "isFraud\n",
            "0    6570\n",
            "1    6570\n",
            "Name: count, dtype: int64\n",
            "Testing target (y_test) shape:\n",
            "isFraud\n",
            "1    1643\n",
            "0    1643\n",
            "Name: count, dtype: int64\n"
          ]
        }
      ]
    },
    {
      "cell_type": "code",
      "source": [
        "# Cell Name: Data Preprocessing - Feature Scaling\n",
        "\n",
        "from sklearn.preprocessing import StandardScaler\n",
        "\n",
        "print(\"\\n--- Data Preprocessing: Feature Scaling ---\")\n",
        "\n",
        "# Initialize the StandardScaler.\n",
        "scaler = StandardScaler()\n",
        "\n",
        "# Fit the scaler ONLY on the training data and transform both train and test sets.\n",
        "X_train_scaled = scaler.fit_transform(X_train)\n",
        "X_test_scaled = scaler.transform(X_test)\n",
        "\n",
        "# Convert back to DataFrame to retain column names.\n",
        "# This is crucial for model interpretability (e.g., SHAP plots) later,\n",
        "# as SHAP needs feature names.\n",
        "X_train_scaled_df = pd.DataFrame(X_train_scaled, columns=X_train.columns)\n",
        "X_test_scaled_df = pd.DataFrame(X_test_scaled, columns=X_test.columns)\n",
        "\n",
        "print(f\"X_train_scaled_df shape: {X_train_scaled_df.shape}\")\n",
        "print(f\"X_test_scaled_df shape: {X_test_scaled_df.shape}\")\n",
        "print(\"Features scaled (mean=0, std=1).\")\n",
        "print(\"First 3 rows of scaled training features:\\n\", X_train_scaled_df.head(3))"
      ],
      "metadata": {
        "colab": {
          "base_uri": "https://localhost:8080/"
        },
        "id": "QKF-6WeKlkLq",
        "outputId": "deb88b39-87b9-4103-dff0-4602b6240927"
      },
      "execution_count": 21,
      "outputs": [
        {
          "output_type": "stream",
          "name": "stdout",
          "text": [
            "\n",
            "--- Data Preprocessing: Feature Scaling ---\n",
            "X_train_scaled_df shape: (13140, 12)\n",
            "X_test_scaled_df shape: (3286, 12)\n",
            "Features scaled (mean=0, std=1).\n",
            "First 3 rows of scaled training features:\n",
            "        step    amount  oldbalanceOrg  newbalanceOrig  oldbalanceDest  \\\n",
            "0  0.872266 -0.412373      -0.365680       -0.210461       -0.244673   \n",
            "1  0.345336 -0.266778      -0.338097       -0.210757       -0.244673   \n",
            "2  1.719487  0.483406       0.152911       -0.210757       -0.244673   \n",
            "\n",
            "   newbalanceDest  balanceDiffOrg  balanceDiffDest  type_CASH_OUT  type_DEBIT  \\\n",
            "0       -0.318087       -0.356159        -0.258423       1.145495   -0.054561   \n",
            "1       -0.246832       -0.307681        -0.072442       1.145495   -0.054561   \n",
            "2       -0.333264        0.548247        -0.298035      -0.872985   -0.054561   \n",
            "\n",
            "   type_PAYMENT  type_TRANSFER  \n",
            "0      -0.44427      -0.639149  \n",
            "1      -0.44427      -0.639149  \n",
            "2      -0.44427       1.564581  \n"
          ]
        }
      ]
    },
    {
      "cell_type": "code",
      "source": [
        "# Cell Name: Model Training - LightGBM Classifier with GridSearchCV\n",
        "\n",
        "import lightgbm as lgbm\n",
        "from sklearn.model_selection import GridSearchCV\n",
        "from sklearn.metrics import accuracy_score, precision_score, recall_score, f1_score, roc_auc_score, classification_report, confusion_matrix\n",
        "import numpy as np\n",
        "import matplotlib.pyplot as plt\n",
        "import seaborn as sns\n",
        "\n",
        "print(\"\\n--- Model Training: LightGBM Classifier with GridSearchCV ---\")\n",
        "\n",
        "# Define the parameter grid for LightGBM Classifier.\n",
        "# This grid is an example; it can be expanded or refined for further optimization.\n",
        "param_grid_lgbm_clf = {\n",
        "    'n_estimators': [100, 200, 300],            # Number of boosting rounds (trees)\n",
        "    'learning_rate': [0.05, 0.1, 0.2],          # Step size shrinkage\n",
        "    'num_leaves': [15, 31, 63],                 # Max number of leaves in one tree (primary complexity control for LightGBM)\n",
        "    'max_depth': [-1, 5, 10],                   # Max tree depth (-1 means no limit; acts as a hard constraint)\n",
        "    'reg_alpha': [0, 0.1, 0.5],                 # L1 regularization term\n",
        "    'reg_lambda': [0, 0.1, 0.5]                 # L2 regularization term\n",
        "}\n",
        "\n",
        "# Initialize the base LightGBM Classifier estimator for GridSearchCV.\n",
        "lgbm_base_clf = lgbm.LGBMClassifier(\n",
        "    objective='binary',          # Objective for binary classification (predicts probabilities)\n",
        "    metric='auc',                # Evaluation metric used for internal validation/monitoring during GridSearchCV (Area Under Curve)\n",
        "    random_state=42,             # Ensures reproducibility of results\n",
        "    n_jobs=-1                    # Uses all available CPU cores for parallel processing\n",
        ")\n",
        "\n",
        "# Initialize GridSearchCV for hyperparameter tuning.\n",
        "# 'roc_auc' is chosen as the scoring metric because it is robust for imbalanced classification.\n",
        "# 'cv' specifies 3-fold cross-validation, ensuring robust evaluation of each parameter combination.\n",
        "grid_search_lgbm_clf = GridSearchCV(\n",
        "    estimator=lgbm_base_clf,\n",
        "    param_grid=param_grid_lgbm_clf,\n",
        "    scoring='roc_auc',\n",
        "    cv=3,\n",
        "    verbose=2, # Verbosity level (2 for more detailed progress messages)\n",
        "    n_jobs=-1\n",
        ")\n",
        "\n",
        "print(\"\\nStarting GridSearchCV search for LightGBM Classifier (this may take a while)...\")\n",
        "# Fit GridSearchCV to the scaled and balanced training data.\n",
        "grid_search_lgbm_clf.fit(X_train_scaled_df, y_train)\n",
        "print(\"GridSearchCV search for LightGBM Classifier complete.\")\n",
        "\n",
        "# Retrieve the best model and its performance from the Grid Search.\n",
        "best_lgbm_clf = grid_search_lgbm_clf.best_estimator_\n",
        "print(\"\\nBest LightGBM Classifier model from GridSearchCV retrieved.\")\n",
        "\n",
        "print(f\"\\nBest parameters found for LightGBM Classifier: {grid_search_lgbm_clf.best_params_}\")\n",
        "print(f\"Best ROC AUC from cross-validation: {grid_search_lgbm_clf.best_score_:.4f}\")\n",
        "\n",
        "\n",
        "# Make predictions with the best model on the unseen test set.\n",
        "y_pred_lgbm = best_lgbm_clf.predict(X_test_scaled_df)\n",
        "y_pred_proba_lgbm = best_lgbm_clf.predict_proba(X_test_scaled_df)[:, 1] # Get probabilities for the positive class (fraud)\n",
        "\n",
        "print(\"\\nPredictions generated on the test set using the best model.\")\n",
        "\n",
        "# Evaluate the Best Model's performance using classification metrics.\n",
        "print(\"\\n--- Model Evaluation (Best LightGBM Classifier) ---\")\n",
        "\n",
        "accuracy = accuracy_score(y_test, y_pred_lgbm)\n",
        "precision = precision_score(y_test, y_pred_lgbm)\n",
        "recall = recall_score(y_test, y_pred_lgbm)\n",
        "f1 = f1_score(y_test, y_pred_lgbm)\n",
        "roc_auc = roc_auc_score(y_test, y_pred_proba_lgbm)\n",
        "\n",
        "print(f\"Accuracy: {accuracy:.4f}\")\n",
        "print(f\"Precision: {precision:.4f}\")\n",
        "print(f\"Recall: {recall:.4f}\")\n",
        "print(f\"F1-Score: {f1:.4f}\")\n",
        "print(f\"ROC AUC: {roc_auc:.4f}\")\n",
        "\n",
        "print(\"\\nClassification Report:\")\n",
        "# The classification report provides precision, recall, f1-score, and support for each class.\n",
        "print(classification_report(y_test, y_pred_lgbm))\n",
        "\n",
        "print(\"\\nConfusion Matrix:\")\n",
        "cm = confusion_matrix(y_test, y_pred_lgbm)\n",
        "sns.heatmap(cm, annot=True, fmt='d', cmap='Blues', cbar=False,\n",
        "            xticklabels=['Predicted 0 (Non-Fraud)', 'Predicted 1 (Fraud)'],\n",
        "            yticklabels=['Actual 0 (Non-Fraud)', 'Actual 1 (Fraud)'])\n",
        "plt.title('Confusion Matrix')\n",
        "plt.ylabel('Actual Label')\n",
        "plt.xlabel('Predicted Label')\n",
        "plt.show()"
      ],
      "metadata": {
        "colab": {
          "base_uri": "https://localhost:8080/",
          "height": 1000
        },
        "id": "TNuCLrGHlxIl",
        "outputId": "4be2dde0-763c-4300-ef25-edf1b3693869"
      },
      "execution_count": 22,
      "outputs": [
        {
          "output_type": "stream",
          "name": "stdout",
          "text": [
            "\n",
            "--- Model Training: LightGBM Classifier with GridSearchCV ---\n",
            "\n",
            "Starting GridSearchCV search for LightGBM Classifier (this may take a while)...\n",
            "Fitting 3 folds for each of 729 candidates, totalling 2187 fits\n",
            "[LightGBM] [Info] Number of positive: 6570, number of negative: 6570\n",
            "[LightGBM] [Info] Auto-choosing row-wise multi-threading, the overhead of testing was 0.001155 seconds.\n",
            "You can set `force_row_wise=true` to remove the overhead.\n",
            "And if memory is not enough, you can set `force_col_wise=true`.\n",
            "[LightGBM] [Info] Total Bins 2052\n",
            "[LightGBM] [Info] Number of data points in the train set: 13140, number of used features: 12\n",
            "[LightGBM] [Info] [binary:BoostFromScore]: pavg=0.500000 -> initscore=0.000000\n",
            "GridSearchCV search for LightGBM Classifier complete.\n",
            "\n",
            "Best LightGBM Classifier model from GridSearchCV retrieved.\n",
            "\n",
            "Best parameters found for LightGBM Classifier: {'learning_rate': 0.1, 'max_depth': -1, 'n_estimators': 200, 'num_leaves': 15, 'reg_alpha': 0, 'reg_lambda': 0}\n",
            "Best ROC AUC from cross-validation: 0.9993\n",
            "\n",
            "Predictions generated on the test set using the best model.\n",
            "\n",
            "--- Model Evaluation (Best LightGBM Classifier) ---\n",
            "Accuracy: 0.9963\n",
            "Precision: 0.9933\n",
            "Recall: 0.9994\n",
            "F1-Score: 0.9964\n",
            "ROC AUC: 0.9996\n",
            "\n",
            "Classification Report:\n",
            "              precision    recall  f1-score   support\n",
            "\n",
            "           0       1.00      0.99      1.00      1643\n",
            "           1       0.99      1.00      1.00      1643\n",
            "\n",
            "    accuracy                           1.00      3286\n",
            "   macro avg       1.00      1.00      1.00      3286\n",
            "weighted avg       1.00      1.00      1.00      3286\n",
            "\n",
            "\n",
            "Confusion Matrix:\n"
          ]
        },
        {
          "output_type": "display_data",
          "data": {
            "text/plain": [
              "<Figure size 640x480 with 1 Axes>"
            ],
            "image/png": "[encoded data removed]"
          },
          "metadata": {}
        }
      ]
    },
    {
      "cell_type": "code",
      "source": [
        "# Cell Name: Model Interpretability (XAI - SHAP Values)\n",
        "\n",
        "import shap # Import the SHAP library for explainable AI\n",
        "import matplotlib.pyplot as plt # For plotting visualizations\n",
        "import numpy as np # For numerical operations, especially with array indexing\n",
        "\n",
        "print(\"\\n--- Model Interpretability: SHAP Values ---\")\n",
        "\n",
        "# Step 1: Initialize the SHAP explainer for tree-based models.\n",
        "# shap.TreeExplainer is optimized for models like LightGBM and XGBoost.\n",
        "explainer = shap.TreeExplainer(best_lgbm_clf)\n",
        "\n",
        "print(\"SHAP TreeExplainer initialized.\")\n",
        "\n",
        "# Step 2: Calculate SHAP values for the test data.\n",
        "# These values represent each feature's contribution to the model's output for each prediction.\n",
        "# For binary classification, explainer.shap_values() typically returns a list of two arrays:\n",
        "# [0] for SHAP values related to class 0 (non-fraud)\n",
        "# [1] for SHAP values related to class 1 (fraud)\n",
        "try:\n",
        "    shap_values_raw = explainer.shap_values(X_test_scaled_df)\n",
        "\n",
        "    # Determine which SHAP values array to use for plotting (for the positive class, i.e., fraud=1)\n",
        "    if isinstance(shap_values_raw, list) and len(shap_values_raw) == 2:\n",
        "        shap_values_for_plot = shap_values_raw[1] # Select SHAP values for the positive class (fraud)\n",
        "    else:\n",
        "        # Fallback if shap_values_raw is not a list of two arrays (e.g., direct array output)\n",
        "        shap_values_for_plot = shap_values_raw\n",
        "\n",
        "    # Defensive check: Ensure the SHAP values array is 2D (n_samples x n_features)\n",
        "    # This addresses previous AssertionErrors where it was sometimes interpreted as 1D.\n",
        "    if len(shap_values_for_plot.shape) == 1 and shap_values_for_plot.shape[0] == X_test_scaled_df.shape[1]:\n",
        "        # This condition suggests explainer returned global feature importance, not per-instance values.\n",
        "        # This is a fallback to try getting per-instance values more explicitly.\n",
        "        shap_values_for_plot = explainer.shap_values(X_test_scaled_df.values)[1]\n",
        "\n",
        "\n",
        "except Exception as e:\n",
        "    # This block catches any unexpected errors during SHAP value calculation\n",
        "    print(f\"Error during initial SHAP value calculation or interpretation: {e}\")\n",
        "    print(\"Trying a fallback method for SHAP values (passing NumPy array directly)...\")\n",
        "    try:\n",
        "        shap_values_raw = explainer.shap_values(X_test_scaled_df.values) # Pass numpy array explicitly\n",
        "        if isinstance(shap_values_raw, list) and len(shap_values_raw) == 2:\n",
        "            shap_values_for_plot = shap_values_raw[1]\n",
        "        else:\n",
        "            shap_values_for_plot = shap_values_raw\n",
        "        if len(shap_values_for_plot.shape) == 1: # Final defensive reshape\n",
        "            shap_values_for_plot = shap_values_for_plot.reshape(-1, X_test_scaled_df.shape[1])\n",
        "            print(\"Warning: Reshaped shap_values_for_plot to 2D in fallback.\")\n",
        "    except Exception as e_fallback:\n",
        "        print(f\"Fallback SHAP calculation failed: {e_fallback}\")\n",
        "        # If all else fails, raise an error as SHAP plotting won't work correctly\n",
        "        raise ValueError(\"Failed to calculate SHAP values in correct shape. Check SHAP/LightGBM versions.\")\n",
        "\n",
        "\n",
        "print(f\"Shape of SHAP values for plotting: {shap_values_for_plot.shape}\")\n",
        "print(f\"Shape of X_test_scaled_df: {X_test_scaled_df.shape}\")\n",
        "\n",
        "# Critical check: Ensure the number of rows in SHAP values matches the number of samples in the test set.\n",
        "# This prevents AssertionError during plotting.\n",
        "if shap_values_for_plot.shape[0] != X_test_scaled_df.shape[0]:\n",
        "    print(\"\\nCRITICAL ERROR: Number of rows in SHAP values does not match X_test_scaled_df!\")\n",
        "    print(\"This indicates a deeper issue, possibly with SHAP library version or data consistency.\")\n",
        "    print(\"Please ensure your 'shap' library is up-to-date: !pip install\")"
      ],
      "metadata": {
        "colab": {
          "base_uri": "https://localhost:8080/"
        },
        "id": "qTxkwjiCmGN6",
        "outputId": "811f921d-3156-481b-8ac6-4bb0cf1088dd"
      },
      "execution_count": 23,
      "outputs": [
        {
          "output_type": "stream",
          "name": "stdout",
          "text": [
            "\n",
            "--- Model Interpretability: SHAP Values ---\n",
            "SHAP TreeExplainer initialized.\n",
            "Shape of SHAP values for plotting: (3286, 12)\n",
            "Shape of X_test_scaled_df: (3286, 12)\n"
          ]
        }
      ]
    },
    {
      "cell_type": "code",
      "source": [
        "# Cell Name: 8. Save Model and Scaler\n",
        "\n",
        "import joblib # Library for saving and loading Python objects\n",
        "\n",
        "print(\"\\n--- Saving Model and Scaler ---\")\n",
        "\n",
        "# Define file paths to save\n",
        "model_path = 'best_lgbm_clf_model.joblib'\n",
        "scaler_path = 'scaler.joblib'\n",
        "\n",
        "# Save the best trained LightGBM model\n",
        "joblib.dump(best_lgbm_clf, model_path)\n",
        "print(f\"Best LightGBM Classifier model saved to {model_path}\")\n",
        "\n",
        "# Save the fitted StandardScaler\n",
        "joblib.dump(scaler, scaler_path)\n",
        "print(f\"StandardScaler saved to {scaler_path}\")\n",
        "\n",
        "print(\"Model and Scaler saving complete. These files will be used by the Streamlit app.\")"
      ],
      "metadata": {
        "colab": {
          "base_uri": "https://localhost:8080/"
        },
        "id": "UBB1qxP43Spd",
        "outputId": "7ee2e35d-2af0-4304-a88c-dafaff458a45"
      },
      "execution_count": 25,
      "outputs": [
        {
          "output_type": "stream",
          "name": "stdout",
          "text": [
            "\n",
            "--- Saving Model and Scaler ---\n",
            "Best LightGBM Classifier model saved to best_lgbm_clf_model.joblib\n",
            "StandardScaler saved to scaler.joblib\n",
            "Model and Scaler saving complete. These files will be used by the Streamlit app.\n"
          ]
        }
      ]
    },
    {
      "cell_type": "code",
      "source": [
        "!pip freeze > requirements.txt"
      ],
      "metadata": {
        "id": "mncfFX7i81yM"
      },
      "execution_count": 26,
      "outputs": []
    },
    {
      "cell_type": "code",
      "source": [],
      "metadata": {
        "id": "fPTbpPCPfsmP"
      },
      "execution_count": null,
      "outputs": []
    }
  ]
}